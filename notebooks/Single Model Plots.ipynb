{
 "cells": [
  {
   "cell_type": "code",
   "execution_count": 1,
   "id": "985a383a",
   "metadata": {},
   "outputs": [
    {
     "ename": "SyntaxError",
     "evalue": "unterminated string literal (detected at line 71) (error_funcs.py, line 71)",
     "output_type": "error",
     "traceback": [
      "Traceback \u001b[0;36m(most recent call last)\u001b[0m:\n",
      "\u001b[0m  File \u001b[1;32m/opt/homebrew/Caskroom/miniforge/base/envs/ECOv002-calval-tables/lib/python3.10/site-packages/IPython/core/interactiveshell.py:3579\u001b[0m in \u001b[1;35mrun_code\u001b[0m\n    exec(code_obj, self.user_global_ns, self.user_ns)\u001b[0m\n",
      "\u001b[0m  Cell \u001b[1;32mIn[1], line 2\u001b[0m\n    from ECOv002_calval_tables import quick_look_plot_single_model\u001b[0m\n",
      "\u001b[0m  File \u001b[1;32m~/Projects/ECOv002-calval-tables/ECOv002_calval_tables/__init__.py:1\u001b[0m\n    from .ECOv002_calval_tables import *\u001b[0m\n",
      "\u001b[0;36m  File \u001b[0;32m~/Projects/ECOv002-calval-tables/ECOv002_calval_tables/ECOv002_calval_tables.py:2\u001b[0;36m\n\u001b[0;31m    from .error_funcs import *\u001b[0;36m\n",
      "\u001b[0;36m  File \u001b[0;32m~/Projects/ECOv002-calval-tables/ECOv002_calval_tables/error_funcs.py:71\u001b[0;36m\u001b[0m\n\u001b[0;31m    Calculates Kendall's Tau correlation coefficient and p-value.\u001b[0m\n\u001b[0m                      ^\u001b[0m\n\u001b[0;31mSyntaxError\u001b[0m\u001b[0;31m:\u001b[0m unterminated string literal (detected at line 71)\n"
     ]
    }
   ],
   "source": [
    "import pandas as pd\n",
    "from ECOv002_calval_tables import quick_look_plot_single_model"
   ]
  },
  {
   "cell_type": "code",
   "execution_count": null,
   "id": "d61d16a0",
   "metadata": {},
   "outputs": [],
   "source": [
    "df = pd.read_csv(\"ECOv002-cal-val-PT-JPL-SM-outputs.csv\")\n",
    "df"
   ]
  },
  {
   "cell_type": "code",
   "execution_count": null,
   "id": "addf52db",
   "metadata": {},
   "outputs": [],
   "source": [
    "result = quick_look_plot_single_model(\n",
    "    calval_table_df=df,\n",
    "    model_output_variable_name=\"LE_Wm2\",\n",
    "    model_name=\"PT-JPL-SM\"\n",
    ")"
   ]
  },
  {
   "cell_type": "code",
   "execution_count": null,
   "id": "ef02e8b5",
   "metadata": {},
   "outputs": [],
   "source": []
  }
 ],
 "metadata": {
  "kernelspec": {
   "display_name": "ECOv002-calval-tables",
   "language": "python",
   "name": "python3"
  },
  "language_info": {
   "codemirror_mode": {
    "name": "ipython",
    "version": 3
   },
   "file_extension": ".py",
   "mimetype": "text/x-python",
   "name": "python",
   "nbconvert_exporter": "python",
   "pygments_lexer": "ipython3",
   "version": "3.10.18"
  }
 },
 "nbformat": 4,
 "nbformat_minor": 5
}
